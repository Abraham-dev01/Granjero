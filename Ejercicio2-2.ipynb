{
 "cells": [
  {
   "cell_type": "code",
   "execution_count": 1,
   "metadata": {},
   "outputs": [
    {
     "name": "stdout",
     "output_type": "stream",
     "text": [
      "1. Seno\n",
      "2. Coseno\n",
      "3. Tangente\n",
      "4. Exponencial\n",
      "5. Logaritmo neperiano\n",
      "El resultado de la operación es: 1.633123935319537e+16\n"
     ]
    }
   ],
   "source": [
    "import math\n",
    "\n",
    "def calcular_trigonometrica(angulo, funcion):\n",
    "  radianes = math.radians(angulo)\n",
    "  resultado = funcion(radianes)\n",
    "  print(f\"El resultado de la operación es: {resultado}\")\n",
    "\n",
    "def calcular_exponencial(num):\n",
    "  resultado = math.exp(num)\n",
    "  print(f\"El resultado de la operación es: {resultado}\")\n",
    "\n",
    "def calcular_logaritmo(num):\n",
    "  resultado = math.log(num)\n",
    "  print(f\"El resultado de la operación es: {resultado}\")\n",
    "\n",
    "def obtener_dato(mensaje):\n",
    "  return int(input(mensaje))\n",
    "\n",
    "def obtener_opcion():\n",
    "  opciones = [\"Seno\", \"Coseno\", \"Tangente\", \"Exponencial\", \"Logaritmo neperiano\"]\n",
    "  for i in range(len(opciones)):\n",
    "    print(f\"{i+1}. {opciones[i]}\")\n",
    "  return int(input(\"Introduzca el número de la función que desea calcular: \"))\n",
    "\n",
    "def main():\n",
    "  opcion = obtener_opcion()\n",
    "  if opcion == 1:\n",
    "    angulo = obtener_dato(\"Introduce un ángulo en grados: \")\n",
    "    calcular_trigonometrica(angulo, math.sin)\n",
    "  elif opcion == 2:\n",
    "    angulo = obtener_dato(\"Introduce un ángulo en grados: \")\n",
    "    calcular_trigonometrica(angulo, math.cos)\n",
    "  elif opcion == 3:\n",
    "    angulo = obtener_dato(\"Introduce un ángulo en grados: \")\n",
    "    calcular_trigonometrica(angulo, math.tan)\n",
    "  elif opcion == 4:\n",
    "    num = obtener_dato(\"Introduce el valor del exponencial: \")\n",
    "    calcular_exponencial(num)\n",
    "  elif opcion == 5:\n",
    "    num = obtener_dato(\"Introduce el valor del logaritmo: \")\n",
    "    calcular_logaritmo(num)\n",
    "  else:\n",
    "    print(\"\\nNo hagas mieeeegdaaaas\")\n",
    "\n",
    "if __name__ == \"__main__\":\n",
    "  main()"
   ]
  }
 ],
 "metadata": {
  "kernelspec": {
   "display_name": "Python 3",
   "language": "python",
   "name": "python3"
  },
  "language_info": {
   "codemirror_mode": {
    "name": "ipython",
    "version": 3
   },
   "file_extension": ".py",
   "mimetype": "text/x-python",
   "name": "python",
   "nbconvert_exporter": "python",
   "pygments_lexer": "ipython3",
   "version": "3.11.2"
  },
  "orig_nbformat": 4
 },
 "nbformat": 4,
 "nbformat_minor": 2
}
