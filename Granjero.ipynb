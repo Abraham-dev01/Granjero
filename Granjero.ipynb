{
 "cells": [
  {
   "cell_type": "code",
   "execution_count": 11,
   "metadata": {},
   "outputs": [
    {
     "name": "stdout",
     "output_type": "stream",
     "text": [
      "Salida: ['Granjero', 'Lobo', 'Col', 'Cabra']\n",
      "Meta: []\n"
     ]
    },
    {
     "ename": "TypeError",
     "evalue": "validar_meta() missing 2 required positional arguments: 'meta' and 'compras'",
     "output_type": "error",
     "traceback": [
      "\u001b[1;31m---------------------------------------------------------------------------\u001b[0m",
      "\u001b[1;31mTypeError\u001b[0m                                 Traceback (most recent call last)",
      "Cell \u001b[1;32mIn[11], line 91\u001b[0m\n\u001b[0;32m     89\u001b[0m \u001b[39mif\u001b[39;00m \u001b[39m__name__\u001b[39m \u001b[39m==\u001b[39m \u001b[39m'\u001b[39m\u001b[39m__main__\u001b[39m\u001b[39m'\u001b[39m:\n\u001b[0;32m     90\u001b[0m     pedir_datos()\n\u001b[1;32m---> 91\u001b[0m     cruce_recursivo(salida, meta, compras)\n",
      "Cell \u001b[1;32mIn[11], line 62\u001b[0m, in \u001b[0;36mcruce_recursivo\u001b[1;34m(salida, meta, compras)\u001b[0m\n\u001b[0;32m     60\u001b[0m              volver_granjero_a_meta()\n\u001b[0;32m     61\u001b[0m         \u001b[39m# Se aplica la función mover_compra a todos los elementos de la lista de salida\u001b[39;00m\n\u001b[1;32m---> 62\u001b[0m         \u001b[39mlist\u001b[39;49m(\u001b[39mmap\u001b[39;49m(\u001b[39mlambda\u001b[39;49;00m compra: mover_compra(salida, meta, compra), salida))\n\u001b[0;32m     63\u001b[0m \u001b[39mreturn\u001b[39;00m\n",
      "Cell \u001b[1;32mIn[11], line 62\u001b[0m, in \u001b[0;36mcruce_recursivo.<locals>.<lambda>\u001b[1;34m(compra)\u001b[0m\n\u001b[0;32m     60\u001b[0m              volver_granjero_a_meta()\n\u001b[0;32m     61\u001b[0m         \u001b[39m# Se aplica la función mover_compra a todos los elementos de la lista de salida\u001b[39;00m\n\u001b[1;32m---> 62\u001b[0m         \u001b[39mlist\u001b[39m(\u001b[39mmap\u001b[39m(\u001b[39mlambda\u001b[39;00m compra: mover_compra(salida, meta, compra), salida))\n\u001b[0;32m     63\u001b[0m \u001b[39mreturn\u001b[39;00m\n",
      "Cell \u001b[1;32mIn[11], line 78\u001b[0m, in \u001b[0;36mmover_compra\u001b[1;34m(salida, meta, compra)\u001b[0m\n\u001b[0;32m     74\u001b[0m     mover_de_meta_a_salida(compra)\n\u001b[0;32m     76\u001b[0m \u001b[39melse\u001b[39;00m:\n\u001b[1;32m---> 78\u001b[0m     \u001b[39mif\u001b[39;00m (validar_meta() \u001b[39m==\u001b[39m \u001b[39mTrue\u001b[39;00m):\n\u001b[0;32m     79\u001b[0m         \u001b[39mreturn\u001b[39;00m\n\u001b[0;32m     81\u001b[0m     \u001b[39melse\u001b[39;00m:\n",
      "\u001b[1;31mTypeError\u001b[0m: validar_meta() missing 2 required positional arguments: 'meta' and 'compras'"
     ]
    }
   ],
   "source": [
    "# salida = ['granjero', 'lobo', 'cabra', 'col']\n",
    "# salida = ['granjero', 'col', 'lobo', 'cabra']\n",
    "# Crear la lista dentro del método, no declarar ninguna variable\n",
    "# salida = ['granjero', 'cabra', 'col', 'lobo']\n",
    "# salida = ['granjero', 'col', 'cabra', 'lobo']\n",
    "# salida = ['granjero', 'lobo', 'col', 'cabra']\n",
    "# salida = ['granjero', 'cabra', 'lobo', 'col']\n",
    "salida = []\n",
    "meta = []\n",
    "compras = ['granjero', 'lobo', 'cabra', 'col']\n",
    "# compras = ['lobo', 'cabra', 'col', 'granjero']\n",
    "def pedir_datos():\n",
    "    \n",
    "    n = int(input(\"Ingrese la cantidad de elementos que desea agregar a la lista: \"))\n",
    "    for i in range(n):\n",
    "        elemento = input(\"Ingrese la compra #{}: \".format(i+1))\n",
    "        salida.append(elemento)\n",
    "    return salida\n",
    "\n",
    "def condiciones(lado):\n",
    "    return not('col' in lado and 'cabra' in lado) and not ('cabra' in lado and 'lobo' in lado)\n",
    "\n",
    "def volver_granjero_a_meta(meta, salida):\n",
    "    meta.append('granjero')\n",
    "    salida.remove('granjero')\n",
    "    return\n",
    "\n",
    "def volver_salida(meta, salida):\n",
    "    meta.remove('granjero')\n",
    "    salida.insert(0, 'granjero')\n",
    "    print(\"Salida: \", salida)\n",
    "    print(\"Meta: \", meta)\n",
    "    return\n",
    "\n",
    "def mover_de_meta_a_salida(meta, salida, compra):\n",
    "    meta.remove(compra)\n",
    "    salida.append(compra)\n",
    "    return\n",
    "\n",
    "def condiciones_meta_invalidas(meta, salida):\n",
    "    salida.append(meta[0])\n",
    "    meta.pop(0)\n",
    "    return\n",
    "\n",
    "def validar_meta(meta, compras):\n",
    "    if all(map(lambda item: item in meta, compras)):\n",
    "        print(\"¡Todos los elementos han llegado a la meta!: 🐐 🐺 🥬 👨‍🌾\")\n",
    "        return True\n",
    "    else:\n",
    "        return False\n",
    "\n",
    "def cruce_recursivo(salida, meta, compras):\n",
    "     print(\"Salida:\", salida)\n",
    "     print(\"Meta:\", meta)\n",
    "     # Si todas las compras están en la meta\n",
    "     if all(map(lambda item: item in meta, compras)):\n",
    "        return\n",
    "     else:\n",
    "             if('granjero' in salida):\n",
    "                  volver_granjero_a_meta()\n",
    "             # Se aplica la función mover_compra a todos los elementos de la lista de salida\n",
    "             list(map(lambda compra: mover_compra(salida, meta, compra), salida))\n",
    "     return\n",
    "                \n",
    "def mover_compra(salida, meta, compra):\n",
    "    if 'granjero' in meta:\n",
    "        salida.remove(compra)\n",
    "        meta.append(compra)\n",
    "        print(\"Salida:\", salida)\n",
    "        print(\"Meta:\", meta)\n",
    "\n",
    "    if(condiciones(salida) == False):\n",
    "        volver_salida()\n",
    "        mover_de_meta_a_salida(compra)\n",
    "\n",
    "    else:\n",
    "\n",
    "        if (validar_meta() == True):\n",
    "            return\n",
    "\n",
    "        else:\n",
    "\n",
    "            volver_salida()\n",
    "            if(condiciones(meta) == False):\n",
    "                condiciones_meta_invalidas()\n",
    "\n",
    "    cruce_recursivo(salida, meta)\n",
    "\n",
    "if __name__ == '__main__':\n",
    "    pedir_datos()\n",
    "    cruce_recursivo(salida, meta, compras)"
   ]
  }
 ],
 "metadata": {
  "kernelspec": {
   "display_name": "Python 3",
   "language": "python",
   "name": "python3"
  },
  "language_info": {
   "codemirror_mode": {
    "name": "ipython",
    "version": 3
   },
   "file_extension": ".py",
   "mimetype": "text/x-python",
   "name": "python",
   "nbconvert_exporter": "python",
   "pygments_lexer": "ipython3",
   "version": "3.11.2"
  },
  "orig_nbformat": 4,
  "vscode": {
   "interpreter": {
    "hash": "94b3f511931d286668e47a9fbce7892f4a740b318413716dda5c0434f599ee36"
   }
  }
 },
 "nbformat": 4,
 "nbformat_minor": 2
}
